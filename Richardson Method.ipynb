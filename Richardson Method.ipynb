{
 "cells": [
  {
   "cell_type": "code",
   "execution_count": 1,
   "metadata": {},
   "outputs": [
    {
     "data": {
      "text/plain": [
       "11×11 Array{Float64,2}:\n",
       "  1.0  -0.5   0.0   0.0   0.0   0.0   0.0   0.0   0.0   0.0   0.0\n",
       " -0.5   1.0  -0.5   0.0   0.0   0.0   0.0   0.0   0.0   0.0   0.0\n",
       "  0.0  -0.5   1.0  -0.5   0.0   0.0   0.0   0.0   0.0   0.0   0.0\n",
       "  0.0   0.0  -0.5   1.0  -0.5   0.0   0.0   0.0   0.0   0.0   0.0\n",
       "  0.0   0.0   0.0  -0.5   1.0  -0.5   0.0   0.0   0.0   0.0   0.0\n",
       "  0.0   0.0   0.0   0.0  -0.5   1.0  -0.5   0.0   0.0   0.0   0.0\n",
       "  0.0   0.0   0.0   0.0   0.0  -0.5   1.0  -0.5   0.0   0.0   0.0\n",
       "  0.0   0.0   0.0   0.0   0.0   0.0  -0.5   1.0  -0.5   0.0   0.0\n",
       "  0.0   0.0   0.0   0.0   0.0   0.0   0.0  -0.5   1.0  -0.5   0.0\n",
       "  0.0   0.0   0.0   0.0   0.0   0.0   0.0   0.0  -0.5   1.0  -0.5\n",
       "  0.0   0.0   0.0   0.0   0.0   0.0   0.0   0.0   0.0  -0.5   1.0"
      ]
     },
     "execution_count": 1,
     "metadata": {},
     "output_type": "execute_result"
    }
   ],
   "source": [
    "## Recall our linear system to find the expected length of that\n",
    "# simple \"random walk\" on the integers.\n",
    "using LinearAlgebra\n",
    "#A = Matrix(1.0I,11,11) - diag(0.)\n",
    "A = collect(SymTridiagonal(ones(11), -0.5*ones(10)))"
   ]
  },
  {
   "cell_type": "code",
   "execution_count": 2,
   "metadata": {},
   "outputs": [
    {
     "data": {
      "text/plain": [
       "11-element Array{Float64,1}:\n",
       " 0.0\n",
       " 1.0\n",
       " 1.0\n",
       " 1.0\n",
       " 1.0\n",
       " 1.0\n",
       " 1.0\n",
       " 1.0\n",
       " 1.0\n",
       " 1.0\n",
       " 0.0"
      ]
     },
     "execution_count": 2,
     "metadata": {},
     "output_type": "execute_result"
    }
   ],
   "source": [
    "A[1,2] = 0\n",
    "A[end,end-1] = 0\n",
    "b = [0;ones(9);0]"
   ]
  },
  {
   "cell_type": "code",
   "execution_count": 3,
   "metadata": {},
   "outputs": [
    {
     "data": {
      "text/plain": [
       "11-element Array{Float64,1}:\n",
       "  0.0              \n",
       "  9.0              \n",
       " 16.0              \n",
       " 21.0              \n",
       " 24.000000000000004\n",
       " 25.000000000000004\n",
       " 24.000000000000004\n",
       " 21.0              \n",
       " 16.0              \n",
       "  9.0              \n",
       "  0.0              "
      ]
     },
     "execution_count": 3,
     "metadata": {},
     "output_type": "execute_result"
    }
   ],
   "source": [
    "xjulia = A\\b"
   ]
  },
  {
   "cell_type": "code",
   "execution_count": 4,
   "metadata": {},
   "outputs": [
    {
     "name": "stdout",
     "output_type": "stream",
     "text": [
      "iter = 111\n"
     ]
    },
    {
     "data": {
      "text/plain": [
       "11-element Array{Float64,1}:\n",
       "  0.0              \n",
       "  8.97109409048539 \n",
       " 15.94508684878328 \n",
       " 20.924323346415022\n",
       " 23.911148654901982\n",
       " 24.906458511859263\n",
       " 23.911148654901982\n",
       " 20.924323346415022\n",
       " 15.94508684878328 \n",
       "  8.97109409048539 \n",
       "  0.0              "
      ]
     },
     "execution_count": 4,
     "metadata": {},
     "output_type": "execute_result"
    }
   ],
   "source": [
    "##\n",
    "\"\"\" Solve a linear system of equations \\$A x = b\\$\n",
    "using a method based\n",
    "on the Neumann series for the inverse. This will converge\n",
    "if the spectral radius of (I - A) is less than 1.\n",
    "\n",
    "* `A`:   The square, non-singular matrix to solve\n",
    "* `b`:   The right hand size\n",
    "\"\"\"\n",
    "function solve_linsys(A::Matrix,b::Vector; niter=0)\n",
    "  n = size(A,1)\n",
    "  @assert(n == size(A,2), \"The matrix is not square\")\n",
    "  if niter <= 0\n",
    "    niter = 10*size(A,1)\n",
    "  end\n",
    "  x = copy(b) # make a copy of the right hand side\n",
    "  r = b - A*x # compute the residual\n",
    "  iter = 0\n",
    "  while norm(r) >= n*eps(1.0) && iter <= niter\n",
    "    x .+= r # this works in place!\n",
    "    iter += 1\n",
    "    r = b - A*x\n",
    "  end\n",
    "  @show iter\n",
    "  return x\n",
    "end\n",
    "x = solve_linsys(A,b)"
   ]
  },
  {
   "cell_type": "code",
   "execution_count": 5,
   "metadata": {},
   "outputs": [
    {
     "name": "stdout",
     "output_type": "stream",
     "text": [
      "iter = 692\n"
     ]
    },
    {
     "data": {
      "text/plain": [
       "11-element Array{Float64,1}:\n",
       "  0.0              \n",
       "  8.999999999999993\n",
       " 15.999999999999988\n",
       " 20.999999999999982\n",
       " 23.99999999999998 \n",
       " 24.99999999999998 \n",
       " 23.99999999999998 \n",
       " 20.999999999999982\n",
       " 15.999999999999988\n",
       "  8.999999999999993\n",
       "  0.0              "
      ]
     },
     "execution_count": 5,
     "metadata": {},
     "output_type": "execute_result"
    }
   ],
   "source": [
    "x = solve_linsys(A,b; niter=10000)"
   ]
  },
  {
   "cell_type": "code",
   "execution_count": null,
   "metadata": {},
   "outputs": [],
   "source": []
  }
 ],
 "metadata": {
  "kernelspec": {
   "display_name": "Julia 1.0.0",
   "language": "julia",
   "name": "julia-1.0"
  },
  "language_info": {
   "file_extension": ".jl",
   "mimetype": "application/julia",
   "name": "julia",
   "version": "1.0.0"
  }
 },
 "nbformat": 4,
 "nbformat_minor": 2
}
