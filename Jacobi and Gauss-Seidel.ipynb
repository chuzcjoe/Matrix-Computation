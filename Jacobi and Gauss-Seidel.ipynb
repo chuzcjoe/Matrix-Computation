{
 "cells": [
  {
   "cell_type": "code",
   "execution_count": 1,
   "metadata": {},
   "outputs": [
    {
     "data": {
      "text/plain": [
       "2-element Array{Float64,1}:\n",
       " -0.0\n",
       "  1.0"
      ]
     },
     "execution_count": 1,
     "metadata": {},
     "output_type": "execute_result"
    }
   ],
   "source": [
    "## We'll look at a Jacobi type iteration on this system\n",
    "A = [1 2; -2 1.0]\n",
    "b = [2.0; 1.0]\n",
    "A\\b"
   ]
  },
  {
   "cell_type": "code",
   "execution_count": 2,
   "metadata": {},
   "outputs": [
    {
     "data": {
      "text/plain": [
       "2-element Array{Float64,1}:\n",
       " -0.25\n",
       "  0.5 "
      ]
     },
     "execution_count": 2,
     "metadata": {},
     "output_type": "execute_result"
    }
   ],
   "source": [
    "##\n",
    "M = zeros(Int,2)\n",
    "M[1] = 2 # use row 2 to update x_1\n",
    "M[2] = 1 # use row 1 to update x_2\n",
    "function update(x)\n",
    "  xnew = similar(x)\n",
    "  for i=1:length(x)\n",
    "    row = M[i]\n",
    "    rhs = A[row,:]'*x - A[row,i]*x[i]\n",
    "    rhs = b[row] - rhs\n",
    "    xnew[i] = (rhs/A[row,i])\n",
    "  end\n",
    "  return xnew\n",
    "end\n",
    "update([1,0.5])"
   ]
  },
  {
   "cell_type": "code",
   "execution_count": 3,
   "metadata": {},
   "outputs": [
    {
     "name": "stdout",
     "output_type": "stream",
     "text": [
      "x = [-0.25, 0.5]\n",
      "x = [-0.25, 1.125]\n",
      "x = [0.0625, 1.125]\n",
      "x = [0.0625, 0.96875]\n",
      "x = [-0.015625, 0.96875]\n",
      "x = [-0.015625, 1.00781]\n",
      "x = [0.00390625, 1.00781]\n",
      "x = [0.00390625, 0.998047]\n",
      "x = [-0.000976563, 0.998047]\n",
      "x = [-0.000976563, 1.00049]\n",
      "x = [0.000244141, 1.00049]\n",
      "x = [0.000244141, 0.999878]\n",
      "x = [-6.10352e-5, 0.999878]\n",
      "x = [-6.10352e-5, 1.00003]\n",
      "x = [1.52588e-5, 1.00003]\n",
      "x = [1.52588e-5, 0.999992]\n",
      "x = [-3.8147e-6, 0.999992]\n",
      "x = [-3.8147e-6, 1.0]\n",
      "x = [9.53674e-7, 1.0]\n",
      "x = [9.53674e-7, 1.0]\n",
      "x = [-2.38419e-7, 1.0]\n",
      "x = [-2.38419e-7, 1.0]\n",
      "x = [5.96046e-8, 1.0]\n",
      "x = [5.96046e-8, 1.0]\n",
      "x = [-1.49012e-8, 1.0]\n",
      "x = [-1.49012e-8, 1.0]\n",
      "x = [3.72529e-9, 1.0]\n",
      "x = [3.72529e-9, 1.0]\n",
      "x = [-9.31323e-10, 1.0]\n",
      "x = [-9.31323e-10, 1.0]\n",
      "x = [2.32831e-10, 1.0]\n",
      "x = [2.32831e-10, 1.0]\n",
      "x = [-5.82077e-11, 1.0]\n",
      "x = [-5.82077e-11, 1.0]\n",
      "x = [1.45519e-11, 1.0]\n",
      "x = [1.45519e-11, 1.0]\n",
      "x = [-3.63798e-12, 1.0]\n",
      "x = [-3.63798e-12, 1.0]\n",
      "x = [9.09495e-13, 1.0]\n",
      "x = [9.09495e-13, 1.0]\n",
      "x = [-2.27374e-13, 1.0]\n",
      "x = [-2.27374e-13, 1.0]\n",
      "x = [5.68434e-14, 1.0]\n",
      "x = [5.68434e-14, 1.0]\n",
      "x = [-1.42109e-14, 1.0]\n",
      "x = [-1.42109e-14, 1.0]\n",
      "x = [3.55271e-15, 1.0]\n",
      "x = [3.55271e-15, 1.0]\n",
      "x = [-8.88178e-16, 1.0]\n",
      "x = [-8.88178e-16, 1.0]\n",
      "x = [2.22045e-16, 1.0]\n",
      "x = [2.22045e-16, 1.0]\n",
      "x = [-0.0, 1.0]\n",
      "x = [-0.0, 1.0]\n",
      "x = [-0.0, 1.0]\n",
      "x = [-0.0, 1.0]\n",
      "x = [-0.0, 1.0]\n",
      "x = [-0.0, 1.0]\n",
      "x = [-0.0, 1.0]\n",
      "x = [-0.0, 1.0]\n",
      "x = [-0.0, 1.0]\n",
      "x = [-0.0, 1.0]\n",
      "x = [-0.0, 1.0]\n",
      "x = [-0.0, 1.0]\n",
      "x = [-0.0, 1.0]\n",
      "x = [-0.0, 1.0]\n",
      "x = [-0.0, 1.0]\n",
      "x = [-0.0, 1.0]\n",
      "x = [-0.0, 1.0]\n",
      "x = [-0.0, 1.0]\n",
      "x = [-0.0, 1.0]\n",
      "x = [-0.0, 1.0]\n",
      "x = [-0.0, 1.0]\n",
      "x = [-0.0, 1.0]\n",
      "x = [-0.0, 1.0]\n",
      "x = [-0.0, 1.0]\n",
      "x = [-0.0, 1.0]\n",
      "x = [-0.0, 1.0]\n",
      "x = [-0.0, 1.0]\n",
      "x = [-0.0, 1.0]\n"
     ]
    }
   ],
   "source": [
    "##\n",
    "x = [1.0,0.5]\n",
    "for iter=1:80\n",
    "  global x = update(x)\n",
    "  @show x\n",
    "end"
   ]
  },
  {
   "cell_type": "code",
   "execution_count": 4,
   "metadata": {},
   "outputs": [
    {
     "name": "stdout",
     "output_type": "stream",
     "text": [
      "x = [1.0, 3.0]\n",
      "x = [-4.0, 3.0]\n",
      "x = [-4.0, -7.0]\n",
      "x = [16.0, -7.0]\n",
      "x = [16.0, 33.0]\n",
      "x = [-64.0, 33.0]\n",
      "x = [-64.0, -127.0]\n",
      "x = [256.0, -127.0]\n",
      "x = [256.0, 513.0]\n",
      "x = [-1024.0, 513.0]\n"
     ]
    }
   ],
   "source": [
    "## The choice of 1->2 and 2->1 was arbitrary, what about 1-1, 2-2?\n",
    "M[1] = 1\n",
    "M[2] = 2\n",
    "x = [1.0,0.5]\n",
    "for iter=1:10\n",
    "  global x = update(x)\n",
    "  @show x\n",
    "end"
   ]
  },
  {
   "cell_type": "code",
   "execution_count": 5,
   "metadata": {},
   "outputs": [
    {
     "name": "stdout",
     "output_type": "stream",
     "text": [
      "x = [-0.25, 1.125]\n",
      "x = [0.0625, 0.96875]\n",
      "x = [-0.015625, 1.00781]\n",
      "x = [0.00390625, 0.998047]\n",
      "x = [-0.000976563, 1.00049]\n",
      "x = [0.000244141, 0.999878]\n",
      "x = [-6.10352e-5, 1.00003]\n",
      "x = [1.52588e-5, 0.999992]\n",
      "x = [-3.8147e-6, 1.0]\n",
      "x = [9.53674e-7, 1.0]\n"
     ]
    }
   ],
   "source": [
    "##\n",
    "# I'm in a hurry... and tried this for my homework.\n",
    "M[1] = 2\n",
    "M[2] = 1\n",
    "function update2(x)\n",
    "  for i=1:length(x)\n",
    "    row = M[i]\n",
    "    rhs = A[row,:]'*x - A[row,i]*x[i]\n",
    "    rhs = b[row] - rhs\n",
    "    x[i] = rhs/A[row,i]\n",
    "  end\n",
    "  return x\n",
    "end\n",
    "x = [1.0,0.5]\n",
    "for iter=1:10\n",
    "  global x = update2(x)\n",
    "  @show x\n",
    "end"
   ]
  },
  {
   "cell_type": "code",
   "execution_count": null,
   "metadata": {},
   "outputs": [],
   "source": []
  }
 ],
 "metadata": {
  "kernelspec": {
   "display_name": "Julia 1.0.0",
   "language": "julia",
   "name": "julia-1.0"
  },
  "language_info": {
   "file_extension": ".jl",
   "mimetype": "application/julia",
   "name": "julia",
   "version": "1.0.0"
  }
 },
 "nbformat": 4,
 "nbformat_minor": 2
}
